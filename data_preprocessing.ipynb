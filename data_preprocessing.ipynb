{
 "cells": [
  {
   "cell_type": "code",
   "execution_count": 1,
   "id": "53ddae9f",
   "metadata": {},
   "outputs": [],
   "source": [
    "import pandas as pd"
   ]
  },
  {
   "cell_type": "code",
   "execution_count": 5,
   "id": "44b798fb",
   "metadata": {},
   "outputs": [],
   "source": [
    "questions = pd.read_csv('interview_questions.csv')"
   ]
  },
  {
   "cell_type": "code",
   "execution_count": 6,
   "id": "5c0f9b38",
   "metadata": {},
   "outputs": [
    {
     "data": {
      "text/html": [
       "<div>\n",
       "<style scoped>\n",
       "    .dataframe tbody tr th:only-of-type {\n",
       "        vertical-align: middle;\n",
       "    }\n",
       "\n",
       "    .dataframe tbody tr th {\n",
       "        vertical-align: top;\n",
       "    }\n",
       "\n",
       "    .dataframe thead th {\n",
       "        text-align: right;\n",
       "    }\n",
       "</style>\n",
       "<table border=\"1\" class=\"dataframe\">\n",
       "  <thead>\n",
       "    <tr style=\"text-align: right;\">\n",
       "      <th></th>\n",
       "      <th>Company</th>\n",
       "      <th>Question</th>\n",
       "    </tr>\n",
       "  </thead>\n",
       "  <tbody>\n",
       "    <tr>\n",
       "      <th>0</th>\n",
       "      <td>TCS</td>\n",
       "      <td>Q. How do you maintain company coding standards?</td>\n",
       "    </tr>\n",
       "    <tr>\n",
       "      <th>1</th>\n",
       "      <td>TCS</td>\n",
       "      <td>Q. Explain the Python installation process.</td>\n",
       "    </tr>\n",
       "    <tr>\n",
       "      <th>2</th>\n",
       "      <td>TCS</td>\n",
       "      <td>Q. Explain OOP concepts.</td>\n",
       "    </tr>\n",
       "    <tr>\n",
       "      <th>3</th>\n",
       "      <td>TCS</td>\n",
       "      <td>Q. What is DevOps?</td>\n",
       "    </tr>\n",
       "    <tr>\n",
       "      <th>4</th>\n",
       "      <td>TCS</td>\n",
       "      <td>Q. Write a Python code to reverse the last k d...</td>\n",
       "    </tr>\n",
       "  </tbody>\n",
       "</table>\n",
       "</div>"
      ],
      "text/plain": [
       "  Company                                           Question\n",
       "0     TCS   Q. How do you maintain company coding standards?\n",
       "1     TCS        Q. Explain the Python installation process.\n",
       "2     TCS                           Q. Explain OOP concepts.\n",
       "3     TCS                                 Q. What is DevOps?\n",
       "4     TCS  Q. Write a Python code to reverse the last k d..."
      ]
     },
     "execution_count": 6,
     "metadata": {},
     "output_type": "execute_result"
    }
   ],
   "source": [
    "questions.head()"
   ]
  },
  {
   "cell_type": "code",
   "execution_count": 7,
   "id": "bc8ce80e",
   "metadata": {},
   "outputs": [],
   "source": [
    "import re\n",
    "\n",
    "def clean_question(text):\n",
    "    text = re.sub(r'^Q\\.\\s*', '', text, flags=re.IGNORECASE)\n",
    "    text = re.sub(r'[^\\w\\s]', '', text)\n",
    "    text = re.sub(r'\\s+', ' ', text).strip()\n",
    "    return text"
   ]
  },
  {
   "cell_type": "code",
   "execution_count": 8,
   "id": "d9b99765",
   "metadata": {},
   "outputs": [],
   "source": [
    "questions['cleaned_question'] = questions['Question'].apply(clean_question)"
   ]
  },
  {
   "cell_type": "code",
   "execution_count": 9,
   "id": "0869310d",
   "metadata": {},
   "outputs": [
    {
     "data": {
      "text/html": [
       "<div>\n",
       "<style scoped>\n",
       "    .dataframe tbody tr th:only-of-type {\n",
       "        vertical-align: middle;\n",
       "    }\n",
       "\n",
       "    .dataframe tbody tr th {\n",
       "        vertical-align: top;\n",
       "    }\n",
       "\n",
       "    .dataframe thead th {\n",
       "        text-align: right;\n",
       "    }\n",
       "</style>\n",
       "<table border=\"1\" class=\"dataframe\">\n",
       "  <thead>\n",
       "    <tr style=\"text-align: right;\">\n",
       "      <th></th>\n",
       "      <th>Company</th>\n",
       "      <th>Question</th>\n",
       "      <th>cleaned_question</th>\n",
       "    </tr>\n",
       "  </thead>\n",
       "  <tbody>\n",
       "    <tr>\n",
       "      <th>0</th>\n",
       "      <td>TCS</td>\n",
       "      <td>Q. How do you maintain company coding standards?</td>\n",
       "      <td>How do you maintain company coding standards</td>\n",
       "    </tr>\n",
       "    <tr>\n",
       "      <th>1</th>\n",
       "      <td>TCS</td>\n",
       "      <td>Q. Explain the Python installation process.</td>\n",
       "      <td>Explain the Python installation process</td>\n",
       "    </tr>\n",
       "    <tr>\n",
       "      <th>2</th>\n",
       "      <td>TCS</td>\n",
       "      <td>Q. Explain OOP concepts.</td>\n",
       "      <td>Explain OOP concepts</td>\n",
       "    </tr>\n",
       "    <tr>\n",
       "      <th>3</th>\n",
       "      <td>TCS</td>\n",
       "      <td>Q. What is DevOps?</td>\n",
       "      <td>What is DevOps</td>\n",
       "    </tr>\n",
       "    <tr>\n",
       "      <th>4</th>\n",
       "      <td>TCS</td>\n",
       "      <td>Q. Write a Python code to reverse the last k d...</td>\n",
       "      <td>Write a Python code to reverse the last k digi...</td>\n",
       "    </tr>\n",
       "  </tbody>\n",
       "</table>\n",
       "</div>"
      ],
      "text/plain": [
       "  Company                                           Question  \\\n",
       "0     TCS   Q. How do you maintain company coding standards?   \n",
       "1     TCS        Q. Explain the Python installation process.   \n",
       "2     TCS                           Q. Explain OOP concepts.   \n",
       "3     TCS                                 Q. What is DevOps?   \n",
       "4     TCS  Q. Write a Python code to reverse the last k d...   \n",
       "\n",
       "                                    cleaned_question  \n",
       "0       How do you maintain company coding standards  \n",
       "1            Explain the Python installation process  \n",
       "2                               Explain OOP concepts  \n",
       "3                                     What is DevOps  \n",
       "4  Write a Python code to reverse the last k digi...  "
      ]
     },
     "execution_count": 9,
     "metadata": {},
     "output_type": "execute_result"
    }
   ],
   "source": [
    "questions.head()"
   ]
  },
  {
   "cell_type": "code",
   "execution_count": 10,
   "id": "ff708703",
   "metadata": {},
   "outputs": [],
   "source": [
    "questions.drop(columns=['Question'], inplace=True)"
   ]
  },
  {
   "cell_type": "code",
   "execution_count": 11,
   "id": "08252bf5",
   "metadata": {},
   "outputs": [
    {
     "data": {
      "text/html": [
       "<div>\n",
       "<style scoped>\n",
       "    .dataframe tbody tr th:only-of-type {\n",
       "        vertical-align: middle;\n",
       "    }\n",
       "\n",
       "    .dataframe tbody tr th {\n",
       "        vertical-align: top;\n",
       "    }\n",
       "\n",
       "    .dataframe thead th {\n",
       "        text-align: right;\n",
       "    }\n",
       "</style>\n",
       "<table border=\"1\" class=\"dataframe\">\n",
       "  <thead>\n",
       "    <tr style=\"text-align: right;\">\n",
       "      <th></th>\n",
       "      <th>Company</th>\n",
       "      <th>cleaned_question</th>\n",
       "    </tr>\n",
       "  </thead>\n",
       "  <tbody>\n",
       "    <tr>\n",
       "      <th>0</th>\n",
       "      <td>TCS</td>\n",
       "      <td>How do you maintain company coding standards</td>\n",
       "    </tr>\n",
       "    <tr>\n",
       "      <th>1</th>\n",
       "      <td>TCS</td>\n",
       "      <td>Explain the Python installation process</td>\n",
       "    </tr>\n",
       "    <tr>\n",
       "      <th>2</th>\n",
       "      <td>TCS</td>\n",
       "      <td>Explain OOP concepts</td>\n",
       "    </tr>\n",
       "    <tr>\n",
       "      <th>3</th>\n",
       "      <td>TCS</td>\n",
       "      <td>What is DevOps</td>\n",
       "    </tr>\n",
       "    <tr>\n",
       "      <th>4</th>\n",
       "      <td>TCS</td>\n",
       "      <td>Write a Python code to reverse the last k digi...</td>\n",
       "    </tr>\n",
       "  </tbody>\n",
       "</table>\n",
       "</div>"
      ],
      "text/plain": [
       "  Company                                   cleaned_question\n",
       "0     TCS       How do you maintain company coding standards\n",
       "1     TCS            Explain the Python installation process\n",
       "2     TCS                               Explain OOP concepts\n",
       "3     TCS                                     What is DevOps\n",
       "4     TCS  Write a Python code to reverse the last k digi..."
      ]
     },
     "execution_count": 11,
     "metadata": {},
     "output_type": "execute_result"
    }
   ],
   "source": [
    "questions.head()"
   ]
  },
  {
   "cell_type": "code",
   "execution_count": 13,
   "id": "b670b57d",
   "metadata": {},
   "outputs": [],
   "source": [
    "questions.to_csv('cleaned_interview_questions.csv', index=False)"
   ]
  },
  {
   "cell_type": "code",
   "execution_count": 14,
   "id": "02eca716",
   "metadata": {},
   "outputs": [],
   "source": [
    "ques_cleaned = pd.read_csv('cleaned_interview_questions.csv')"
   ]
  },
  {
   "cell_type": "code",
   "execution_count": 16,
   "id": "84383444",
   "metadata": {},
   "outputs": [
    {
     "data": {
      "text/html": [
       "<div>\n",
       "<style scoped>\n",
       "    .dataframe tbody tr th:only-of-type {\n",
       "        vertical-align: middle;\n",
       "    }\n",
       "\n",
       "    .dataframe tbody tr th {\n",
       "        vertical-align: top;\n",
       "    }\n",
       "\n",
       "    .dataframe thead th {\n",
       "        text-align: right;\n",
       "    }\n",
       "</style>\n",
       "<table border=\"1\" class=\"dataframe\">\n",
       "  <thead>\n",
       "    <tr style=\"text-align: right;\">\n",
       "      <th></th>\n",
       "      <th>Company</th>\n",
       "      <th>cleaned_question</th>\n",
       "    </tr>\n",
       "  </thead>\n",
       "  <tbody>\n",
       "    <tr>\n",
       "      <th>0</th>\n",
       "      <td>TCS</td>\n",
       "      <td>How do you maintain company coding standards</td>\n",
       "    </tr>\n",
       "    <tr>\n",
       "      <th>1</th>\n",
       "      <td>TCS</td>\n",
       "      <td>Explain the Python installation process</td>\n",
       "    </tr>\n",
       "    <tr>\n",
       "      <th>2</th>\n",
       "      <td>TCS</td>\n",
       "      <td>Explain OOP concepts</td>\n",
       "    </tr>\n",
       "    <tr>\n",
       "      <th>3</th>\n",
       "      <td>TCS</td>\n",
       "      <td>What is DevOps</td>\n",
       "    </tr>\n",
       "    <tr>\n",
       "      <th>4</th>\n",
       "      <td>TCS</td>\n",
       "      <td>Write a Python code to reverse the last k digi...</td>\n",
       "    </tr>\n",
       "  </tbody>\n",
       "</table>\n",
       "</div>"
      ],
      "text/plain": [
       "  Company                                   cleaned_question\n",
       "0     TCS       How do you maintain company coding standards\n",
       "1     TCS            Explain the Python installation process\n",
       "2     TCS                               Explain OOP concepts\n",
       "3     TCS                                     What is DevOps\n",
       "4     TCS  Write a Python code to reverse the last k digi..."
      ]
     },
     "execution_count": 16,
     "metadata": {},
     "output_type": "execute_result"
    }
   ],
   "source": [
    "ques_cleaned.head()"
   ]
  },
  {
   "cell_type": "code",
   "execution_count": 17,
   "id": "2be5ee84",
   "metadata": {},
   "outputs": [],
   "source": [
    "companies = pd.read_csv('top_companies.csv')"
   ]
  },
  {
   "cell_type": "code",
   "execution_count": 18,
   "id": "c1d020eb",
   "metadata": {},
   "outputs": [
    {
     "data": {
      "text/html": [
       "<div>\n",
       "<style scoped>\n",
       "    .dataframe tbody tr th:only-of-type {\n",
       "        vertical-align: middle;\n",
       "    }\n",
       "\n",
       "    .dataframe tbody tr th {\n",
       "        vertical-align: top;\n",
       "    }\n",
       "\n",
       "    .dataframe thead th {\n",
       "        text-align: right;\n",
       "    }\n",
       "</style>\n",
       "<table border=\"1\" class=\"dataframe\">\n",
       "  <thead>\n",
       "    <tr style=\"text-align: right;\">\n",
       "      <th></th>\n",
       "      <th>Company</th>\n",
       "      <th>Rating</th>\n",
       "      <th>Reviews</th>\n",
       "      <th>Industry &amp; Location</th>\n",
       "    </tr>\n",
       "  </thead>\n",
       "  <tbody>\n",
       "    <tr>\n",
       "      <th>0</th>\n",
       "      <td>TCS</td>\n",
       "      <td>3.6</td>\n",
       "      <td>(98.1k)</td>\n",
       "      <td>IT Services &amp; Consulting | Bangalore / Bengalu...</td>\n",
       "    </tr>\n",
       "    <tr>\n",
       "      <th>1</th>\n",
       "      <td>Accenture</td>\n",
       "      <td>3.8</td>\n",
       "      <td>(63.3k)</td>\n",
       "      <td>IT Services &amp; Consulting | Bangalore / Bengalu...</td>\n",
       "    </tr>\n",
       "    <tr>\n",
       "      <th>2</th>\n",
       "      <td>Wipro</td>\n",
       "      <td>3.7</td>\n",
       "      <td>(57.3k)</td>\n",
       "      <td>IT Services &amp; Consulting | Bangalore / Bengalu...</td>\n",
       "    </tr>\n",
       "    <tr>\n",
       "      <th>3</th>\n",
       "      <td>Cognizant</td>\n",
       "      <td>3.7</td>\n",
       "      <td>(54.4k)</td>\n",
       "      <td>IT Services &amp; Consulting | Hyderabad / Secunde...</td>\n",
       "    </tr>\n",
       "    <tr>\n",
       "      <th>4</th>\n",
       "      <td>Capgemini</td>\n",
       "      <td>3.7</td>\n",
       "      <td>(46.1k)</td>\n",
       "      <td>IT Services &amp; Consulting | Bangalore / Bengalu...</td>\n",
       "    </tr>\n",
       "  </tbody>\n",
       "</table>\n",
       "</div>"
      ],
      "text/plain": [
       "     Company  Rating  Reviews  \\\n",
       "0        TCS     3.6  (98.1k)   \n",
       "1  Accenture     3.8  (63.3k)   \n",
       "2      Wipro     3.7  (57.3k)   \n",
       "3  Cognizant     3.7  (54.4k)   \n",
       "4  Capgemini     3.7  (46.1k)   \n",
       "\n",
       "                                 Industry & Location  \n",
       "0  IT Services & Consulting | Bangalore / Bengalu...  \n",
       "1  IT Services & Consulting | Bangalore / Bengalu...  \n",
       "2  IT Services & Consulting | Bangalore / Bengalu...  \n",
       "3  IT Services & Consulting | Hyderabad / Secunde...  \n",
       "4  IT Services & Consulting | Bangalore / Bengalu...  "
      ]
     },
     "execution_count": 18,
     "metadata": {},
     "output_type": "execute_result"
    }
   ],
   "source": [
    "companies.head()"
   ]
  },
  {
   "cell_type": "code",
   "execution_count": 21,
   "id": "c42473e7",
   "metadata": {},
   "outputs": [],
   "source": [
    "companies[\"Industry & Location\"]= companies[\"Industry & Location\"].apply(clean_question)"
   ]
  },
  {
   "cell_type": "code",
   "execution_count": 22,
   "id": "ad2639c9",
   "metadata": {},
   "outputs": [
    {
     "data": {
      "text/html": [
       "<div>\n",
       "<style scoped>\n",
       "    .dataframe tbody tr th:only-of-type {\n",
       "        vertical-align: middle;\n",
       "    }\n",
       "\n",
       "    .dataframe tbody tr th {\n",
       "        vertical-align: top;\n",
       "    }\n",
       "\n",
       "    .dataframe thead th {\n",
       "        text-align: right;\n",
       "    }\n",
       "</style>\n",
       "<table border=\"1\" class=\"dataframe\">\n",
       "  <thead>\n",
       "    <tr style=\"text-align: right;\">\n",
       "      <th></th>\n",
       "      <th>Company</th>\n",
       "      <th>Rating</th>\n",
       "      <th>Reviews</th>\n",
       "      <th>Industry &amp; Location</th>\n",
       "    </tr>\n",
       "  </thead>\n",
       "  <tbody>\n",
       "    <tr>\n",
       "      <th>0</th>\n",
       "      <td>TCS</td>\n",
       "      <td>3.6</td>\n",
       "      <td>(98.1k)</td>\n",
       "      <td>IT Services Consulting Bangalore Bengaluru 413...</td>\n",
       "    </tr>\n",
       "    <tr>\n",
       "      <th>1</th>\n",
       "      <td>Accenture</td>\n",
       "      <td>3.8</td>\n",
       "      <td>(63.3k)</td>\n",
       "      <td>IT Services Consulting Bangalore Bengaluru 227...</td>\n",
       "    </tr>\n",
       "    <tr>\n",
       "      <th>2</th>\n",
       "      <td>Wipro</td>\n",
       "      <td>3.7</td>\n",
       "      <td>(57.3k)</td>\n",
       "      <td>IT Services Consulting Bangalore Bengaluru 358...</td>\n",
       "    </tr>\n",
       "    <tr>\n",
       "      <th>3</th>\n",
       "      <td>Cognizant</td>\n",
       "      <td>3.7</td>\n",
       "      <td>(54.4k)</td>\n",
       "      <td>IT Services Consulting Hyderabad Secunderabad ...</td>\n",
       "    </tr>\n",
       "    <tr>\n",
       "      <th>4</th>\n",
       "      <td>Capgemini</td>\n",
       "      <td>3.7</td>\n",
       "      <td>(46.1k)</td>\n",
       "      <td>IT Services Consulting Bangalore Bengaluru 172...</td>\n",
       "    </tr>\n",
       "  </tbody>\n",
       "</table>\n",
       "</div>"
      ],
      "text/plain": [
       "     Company  Rating  Reviews  \\\n",
       "0        TCS     3.6  (98.1k)   \n",
       "1  Accenture     3.8  (63.3k)   \n",
       "2      Wipro     3.7  (57.3k)   \n",
       "3  Cognizant     3.7  (54.4k)   \n",
       "4  Capgemini     3.7  (46.1k)   \n",
       "\n",
       "                                 Industry & Location  \n",
       "0  IT Services Consulting Bangalore Bengaluru 413...  \n",
       "1  IT Services Consulting Bangalore Bengaluru 227...  \n",
       "2  IT Services Consulting Bangalore Bengaluru 358...  \n",
       "3  IT Services Consulting Hyderabad Secunderabad ...  \n",
       "4  IT Services Consulting Bangalore Bengaluru 172...  "
      ]
     },
     "execution_count": 22,
     "metadata": {},
     "output_type": "execute_result"
    }
   ],
   "source": [
    "companies.head()"
   ]
  },
  {
   "cell_type": "code",
   "execution_count": 24,
   "id": "dca4b664",
   "metadata": {},
   "outputs": [
    {
     "name": "stdout",
     "output_type": "stream",
     "text": [
      "<class 'pandas.core.frame.DataFrame'>\n",
      "RangeIndex: 500 entries, 0 to 499\n",
      "Data columns (total 4 columns):\n",
      " #   Column               Non-Null Count  Dtype  \n",
      "---  ------               --------------  -----  \n",
      " 0   Company              500 non-null    object \n",
      " 1   Rating               500 non-null    float64\n",
      " 2   Reviews              500 non-null    object \n",
      " 3   Industry & Location  500 non-null    object \n",
      "dtypes: float64(1), object(3)\n",
      "memory usage: 15.8+ KB\n"
     ]
    }
   ],
   "source": [
    "companies.info()"
   ]
  },
  {
   "cell_type": "code",
   "execution_count": 25,
   "id": "d9f58732",
   "metadata": {},
   "outputs": [],
   "source": [
    "companies[\"Rating\"] = companies[\"Rating\"].astype(str)"
   ]
  },
  {
   "cell_type": "code",
   "execution_count": 27,
   "id": "64f8903c",
   "metadata": {},
   "outputs": [
    {
     "name": "stdout",
     "output_type": "stream",
     "text": [
      "<class 'pandas.core.frame.DataFrame'>\n",
      "RangeIndex: 500 entries, 0 to 499\n",
      "Data columns (total 4 columns):\n",
      " #   Column               Non-Null Count  Dtype \n",
      "---  ------               --------------  ----- \n",
      " 0   Company              500 non-null    object\n",
      " 1   Rating               500 non-null    object\n",
      " 2   Reviews              500 non-null    object\n",
      " 3   Industry & Location  500 non-null    object\n",
      "dtypes: object(4)\n",
      "memory usage: 15.8+ KB\n"
     ]
    }
   ],
   "source": [
    "companies.info()"
   ]
  },
  {
   "cell_type": "code",
   "execution_count": 28,
   "id": "82c79e8a",
   "metadata": {},
   "outputs": [],
   "source": [
    "companies.to_csv('cleaned_top_companies.csv', index=False)"
   ]
  }
 ],
 "metadata": {
  "kernelspec": {
   "display_name": "Python 3",
   "language": "python",
   "name": "python3"
  },
  "language_info": {
   "codemirror_mode": {
    "name": "ipython",
    "version": 3
   },
   "file_extension": ".py",
   "mimetype": "text/x-python",
   "name": "python",
   "nbconvert_exporter": "python",
   "pygments_lexer": "ipython3",
   "version": "3.13.4"
  }
 },
 "nbformat": 4,
 "nbformat_minor": 5
}
